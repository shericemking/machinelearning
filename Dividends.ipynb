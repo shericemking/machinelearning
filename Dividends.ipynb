{
 "metadata": {
  "language_info": {
   "codemirror_mode": {
    "name": "ipython",
    "version": 3
   },
   "file_extension": ".py",
   "mimetype": "text/x-python",
   "name": "python",
   "nbconvert_exporter": "python",
   "pygments_lexer": "ipython3",
   "version": 3
  },
  "orig_nbformat": 2
 },
 "nbformat": 4,
 "nbformat_minor": 2,
 "cells": [
  {
   "cell_type": "code",
   "execution_count": null,
   "metadata": {},
   "outputs": [],
   "source": [
    "import requests\n",
    "\n",
    "demo = 'https://fmpcloud.io/api/v3/rss_feed?limit=100&apikey=demo'\n",
    "\n",
    "tickers = requests.get(f'https://fmpcloud.io/api/v3/symbol/available-nasdaq?apikey={demo}')\n",
    "\n",
    "tickers = tickers.json()\n",
    "symbols = []\n",
    "for ticker in tickers:\n",
    "    symbols.append(ticker['symbol'])\n",
    "#print(symbols)\n",
    "['SMMCW', 'VOD', 'TRMD', 'TRMB', 'NBL', 'EMMA',...]"
   ]
  },
  {
   "cell_type": "code",
   "execution_count": null,
   "metadata": {},
   "outputs": [],
   "source": [
    "DivYield = {}\n",
    "for company in symbols:\n",
    "  try:\n",
    "    companydata = requests.get(f'https://fmpcloud.io/api/v3/profile/{company}?apikey={demo}')\n",
    "    companydata = companydata.json()\n",
    "    latest_Annual_Dividend = companydata[0]['lastDiv']\n",
    "    price = companydata[0]['price']\n",
    "    market_Capitalization = companydata[0]['mktCap']\n",
    "    name = companydata[0]['companyName']\n",
    "    exchange = companydata[0]['exchange']\n",
    "\n",
    "    dividend_Yield= latest_Annual_Dividend/price\n",
    "    DivYield[company] = {}\n",
    "    DivYield[company]['Dividend_Yield'] = dividend_Yield\n",
    "    DivYield[company]['latest_Price'] = price\n",
    "    DivYield[company]['latest_Dividend'] = latest_Annual_Dividend\n",
    "    DivYield[company]['market_Capit_in_M'] = market_Capitalization/1000000\n",
    "    DivYield[company]['company_Name'] = name\n",
    "    DivYield[company]['exchange'] = exchange\n",
    "  except:\n",
    "    pass\n",
    "print(DivYield)\n",
    "#outcome\n",
    "{'VOD': {'Dividend_Yield': 0.07571881188118812, 'latest_Price': 14.14, 'latest_Dividend': 1.070664, 'market_Capit_in_M': 37427.024, 'company_Name': 'Vodafone Group Plc', 'exchange': 'Nasdaq Global Select'}, 'TRMD': {'Dividend_Yield': 0.0, 'latest_Price': 7.69...."
   ]
  },
  {
   "cell_type": "code",
   "execution_count": null,
   "metadata": {},
   "outputs": [],
   "source": [
    "import pandas as pd\n",
    "DivYield_dataframe = pd.DataFrame.from_dict(DivYield, orient='index')\n",
    "\n",
    "DivYield_dataframe = DivYield_dataframe.sort_values(['Dividend_Yield'], ascending=[False])\n",
    "DivYield_dataframe"
   ]
  }
 ]
}